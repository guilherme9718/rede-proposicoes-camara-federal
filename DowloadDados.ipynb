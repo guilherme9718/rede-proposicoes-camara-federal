{
 "cells": [
  {
   "cell_type": "markdown",
   "id": "69583945-e613-4ff8-915e-0b72e3a50538",
   "metadata": {},
   "source": [
    "# Download Dos dados das proposições\n",
    "Guilherme Aguilar de Oliveira"
   ]
  },
  {
   "cell_type": "code",
   "execution_count": 5,
   "id": "cc4104c8-0a97-4a60-b33f-8f920c0bb6be",
   "metadata": {},
   "outputs": [],
   "source": [
    "from wget import download"
   ]
  },
  {
   "cell_type": "markdown",
   "id": "7f6af9f7-9f7a-4631-8eb8-e149e7ffdc63",
   "metadata": {},
   "source": [
    "Variáveis globais para coletar os dados. Código testado em 14/11/2022"
   ]
  },
  {
   "cell_type": "code",
   "execution_count": 4,
   "id": "16c8c60e-90c5-48da-9958-d31c73c15ab7",
   "metadata": {},
   "outputs": [],
   "source": [
    "diretorio_dados = \"dados/cru\"\n",
    "url_proposicoes = \"http://dadosabertos.camara.leg.br/arquivos/proposicoes/{formato}/proposicoes-{ano}.{formato}\"\n",
    "url_temas = \"http://dadosabertos.camara.leg.br/arquivos/proposicoesTemas/{formato}/proposicoesTemas-{ano}.{formato}\"\n",
    "url_autores = \"http://dadosabertos.camara.leg.br/arquivos/proposicoesAutores/{formato}/proposicoesAutores-{ano}.{formato}\"\n",
    "formato = \"csv\"\n",
    "anos = range(1998, 2023)"
   ]
  },
  {
   "cell_type": "code",
   "execution_count": 10,
   "id": "44a50770-a320-493a-8044-ef92a1678c25",
   "metadata": {},
   "outputs": [],
   "source": [
    "def download_dados(url):\n",
    "    for ano in anos:\n",
    "        url_formatada = url.format(ano=ano, formato=formato) \n",
    "        download(url_formatada, out=diretorio_dados)"
   ]
  },
  {
   "cell_type": "code",
   "execution_count": null,
   "id": "81c6b4e9-4409-4189-beb2-4b64105a412f",
   "metadata": {},
   "outputs": [],
   "source": [
    "download_dados(url_proposicoes)\n",
    "download_dados(url_temas)\n",
    "download_dados(url_autores)"
   ]
  }
 ],
 "metadata": {
  "kernelspec": {
   "display_name": "Python 3 (ipykernel)",
   "language": "python",
   "name": "python3"
  },
  "language_info": {
   "codemirror_mode": {
    "name": "ipython",
    "version": 3
   },
   "file_extension": ".py",
   "mimetype": "text/x-python",
   "name": "python",
   "nbconvert_exporter": "python",
   "pygments_lexer": "ipython3",
   "version": "3.9.7"
  }
 },
 "nbformat": 4,
 "nbformat_minor": 5
}
