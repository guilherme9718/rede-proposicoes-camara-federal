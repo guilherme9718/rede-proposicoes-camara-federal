{
 "cells": [
  {
   "cell_type": "markdown",
   "id": "bc36ee06-9a9c-4fb5-9ef6-5863ff78c3ce",
   "metadata": {},
   "source": [
    "# Preprocessamento por mandato\n",
    "Existiram 6 mandatos de 1998 a 2022"
   ]
  },
  {
   "cell_type": "code",
   "execution_count": 3,
   "id": "a0b86df8-4d2f-45a3-8da7-2cf41eceb334",
   "metadata": {},
   "outputs": [],
   "source": [
    "from tqdm import tqdm\n",
    "import itertools\n",
    "import pandas as pd\n",
    "import numpy as np\n",
    "import networkx as nx"
   ]
  },
  {
   "cell_type": "code",
   "execution_count": 4,
   "id": "ba1ee217-14d7-466b-bc46-4f23d1dd304f",
   "metadata": {},
   "outputs": [],
   "source": [
    "anos = range(1998,2023)\n",
    "diretorio_dados = \"dados/cru\"\n",
    "diretorio_dados_processados = \"dados/processado\"\n",
    "caminho_dados_autores = diretorio_dados + '/proposicoesAutores-{ano}.csv'\n",
    "filtro_colunas_autores = ['idProposicao', 'idDeputadoAutor', 'nomeAutor', 'siglaPartidoAutor', 'siglaUFAutor']"
   ]
  },
  {
   "cell_type": "code",
   "execution_count": 7,
   "id": "4adcd9c9-9dcb-4983-951a-27ebc064c1f6",
   "metadata": {},
   "outputs": [],
   "source": [
    "def filtrar_e_preprocessar_df_autores(df_cru, ano):\n",
    "    df_cru = df_cru[filtro_colunas_autores]\n",
    "    df_cru.loc[:, 'ano'] = ano\n",
    "    df_cru.loc[:, 'nomeAutor'] = df_cru.loc[:, 'nomeAutor'].str.upper()\n",
    "    df_cru.loc[:, 'siglaPartidoAutor'] = df_cru.loc[:, 'siglaPartidoAutor'].str.upper()\n",
    "    df_cru.loc[:, 'siglaUFAutor'] = df_cru.loc[:, 'siglaUFAutor'].str.upper()\n",
    "    df_cru = df_cru[df_cru['idDeputadoAutor'].notna()]\n",
    "    \n",
    "    return df_cru\n",
    "\n",
    "def remover_projetos_com_um_autor(df):\n",
    "    df_aux = df.groupby('idProposicao').size()\n",
    "    df = df[df['idProposicao'].isin(df_aux[df_aux > 1].index)]\n",
    "    \n",
    "    return df\n",
    "\n",
    "def formar_arestas(df):\n",
    "    df_index = df.set_index(['idProposicao', 'idDeputadoAutor'])\n",
    "\n",
    "    dict_edges = {}\n",
    "    for date, new_df in tqdm(df_index.groupby(level=0)):\n",
    "        for tup in itertools.combinations([j for (i,j) in new_df.index], 2):\n",
    "            t = tup\n",
    "            #ordenar\n",
    "            if(t[0] > t[1]):\n",
    "                t = (t[1], t[0])\n",
    "            if(t in dict_edges):\n",
    "                dict_edges[t].append(date)\n",
    "            else:\n",
    "                dict_edges[t] = [date]\n",
    "\n",
    "    df_edges = pd.DataFrame([[key[0], \n",
    "                          key[1], \n",
    "                          ','.join(map(str,dict_edges[key])), \n",
    "                          len(dict_edges[key])] for key in dict_edges],\n",
    "                       columns=['no1','no2','projetos', 'weight'])\n",
    "    \n",
    "    return nx.from_pandas_edgelist(df_edges, source='no1', target='no2', edge_attr=True)\n",
    "\n",
    "def iteravel_para_string(iteravel):\n",
    "    lista = list(iteravel)\n",
    "    if(len(lista) == 1):\n",
    "        return str(lista[0])\n",
    "    if(np.nan in lista):\n",
    "        lista.remove(np.nan)\n",
    "    return ','.join(map(str,lista))\n",
    "\n",
    "def autores_atributos(df, anos):\n",
    "    df = df[df['ano'].isin(anos)]\n",
    "    df.set_index('idDeputadoAutor')\n",
    "    \n",
    "    info_autores = []\n",
    "    for idAutor, new_df in tqdm(df.groupby(level=0)):\n",
    "        info = []\n",
    "        info.append(idAutor)\n",
    "        info.append(new_df.iloc[0, 1])\n",
    "        partido = set()\n",
    "        uf = set()\n",
    "        for index, row in new_df.iterrows():\n",
    "            partido.add(row['siglaPartidoAutor'])\n",
    "            uf.add(row['siglaUFAutor'])\n",
    "        info.append(iteravel_para_string(partido))\n",
    "        info.append(iteravel_para_string(uf))\n",
    "        info_autores.append(info)\n",
    "    \n",
    "    df_deputados = pd.DataFrame(info_autores, columns=['id', 'nome', 'partidos', 'uf'])\n",
    "\n",
    "    return df_deputados.set_index('id').to_dict('index')"
   ]
  },
  {
   "cell_type": "code",
   "execution_count": 8,
   "id": "f2cf0458-c0ac-4e5a-9bb5-44638a6c76d3",
   "metadata": {},
   "outputs": [
    {
     "name": "stderr",
     "output_type": "stream",
     "text": [
      "100%|███████████████████████████████████████| 782/782 [00:00<00:00, 2100.34it/s]\n",
      "100%|██████████████████████████████████████| 3002/3002 [00:03<00:00, 998.89it/s]\n",
      "100%|██████████████████████████████████████| 5944/5944 [00:54<00:00, 109.68it/s]\n",
      "100%|█████████████████████████████████| 206235/206235 [03:22<00:00, 1019.49it/s]\n",
      "100%|██████████████████████████████████████| 4965/4965 [00:15<00:00, 323.48it/s]\n",
      "100%|█████████████████████████████████| 108328/108328 [01:13<00:00, 1477.31it/s]\n",
      "100%|█████████████████████████████████████| 3616/3616 [00:03<00:00, 1054.10it/s]\n",
      "100%|███████████████████████████████████| 23519/23519 [00:15<00:00, 1544.55it/s]\n",
      "100%|██████████████████████████████████████| 3920/3920 [00:07<00:00, 548.29it/s]\n",
      "100%|███████████████████████████████████| 44756/44756 [00:27<00:00, 1610.53it/s]\n",
      "100%|████████████████████████████████████| 11053/11053 [00:16<00:00, 670.19it/s]\n",
      "100%|█████████████████████████████████| 108713/108713 [01:11<00:00, 1519.13it/s]\n"
     ]
    }
   ],
   "source": [
    "grafos_array = []\n",
    "for i in range(1999, 2023, 4):\n",
    "    df_array_autores = []\n",
    "    for ano in range(i,i+4):\n",
    "        df = pd.read_csv(caminho_dados_autores.format(ano=ano), sep=';')\n",
    "        df = filtrar_e_preprocessar_df_autores(df, ano)\n",
    "        df = remover_projetos_com_um_autor(df)\n",
    "        df_array_autores.append(df)\n",
    "    \n",
    "    df = pd.concat(df_array_autores)\n",
    "    gf = formar_arestas(df)\n",
    "    nx.set_node_attributes(gf, autores_atributos(df, range(i,i+4)))\n",
    "    grafos_array.append(gf)\n",
    "    nx.write_gml(gf, \"{}/arestas{}-{}.gml\".format(diretorio_dados_processados,i, i+4))\n",
    "    "
   ]
  },
  {
   "cell_type": "code",
   "execution_count": 15,
   "id": "7751a2c7-e676-4139-826d-196e76f96b49",
   "metadata": {},
   "outputs": [
    {
     "name": "stdout",
     "output_type": "stream",
     "text": [
      "-------------- 1999-2002: --------------\n",
      "nos: 421\n",
      "arestas: 7868\n",
      "grau médio 37.37767220902613\n",
      "\n",
      "-------------- 2003-2006: --------------\n",
      "nos: 624\n",
      "arestas: 177859\n",
      "grau médio 570.0608974358975\n",
      "\n",
      "-------------- 2007-2010: --------------\n",
      "nos: 612\n",
      "arestas: 156108\n",
      "grau médio 510.15686274509807\n",
      "\n",
      "-------------- 2011-2014: --------------\n",
      "nos: 638\n",
      "arestas: 151916\n",
      "grau médio 476.2257053291536\n",
      "\n",
      "-------------- 2015-2018: --------------\n",
      "nos: 626\n",
      "arestas: 162512\n",
      "grau médio 519.2076677316294\n",
      "\n",
      "-------------- 2019-2022: --------------\n",
      "nos: 611\n",
      "arestas: 158359\n",
      "grau médio 518.3600654664484\n",
      "\n"
     ]
    }
   ],
   "source": [
    "for gf, i in zip(grafos_array, range(1999, 2023, 4)): \n",
    "    grau_medio = pd.DataFrame(gf.degree())[1].sum() / gf.number_of_nodes()\n",
    "    print(\"--------------\", \"{}-{}:\".format(i,i+3), \"--------------\")\n",
    "    print(\"nos:\", gf.number_of_nodes())\n",
    "    print(\"arestas:\", gf.number_of_edges())\n",
    "    print(\"grau médio\", grau_medio)\n",
    "    print()\n",
    "    "
   ]
  }
 ],
 "metadata": {
  "kernelspec": {
   "display_name": "Python 3 (ipykernel)",
   "language": "python",
   "name": "python3"
  },
  "language_info": {
   "codemirror_mode": {
    "name": "ipython",
    "version": 3
   },
   "file_extension": ".py",
   "mimetype": "text/x-python",
   "name": "python",
   "nbconvert_exporter": "python",
   "pygments_lexer": "ipython3",
   "version": "3.9.7"
  }
 },
 "nbformat": 4,
 "nbformat_minor": 5
}
